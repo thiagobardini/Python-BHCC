{
 "cells": [
  {
   "cell_type": "markdown",
   "metadata": {},
   "source": [
    "# Researching profitable apps profiles"
   ]
  },
  {
   "cell_type": "markdown",
   "metadata": {},
   "source": [
    "## Step 1: What is this project about?"
   ]
  },
  {
   "cell_type": "markdown",
   "metadata": {},
   "source": [
    "This project aims to discover what are the most profitable types of free apps for iOs and android. In order to do that, we'll explorer two datasets with data from each app store, and try to discover what sort of free apps are more popular than the others."
   ]
  },
  {
   "cell_type": "markdown",
   "metadata": {},
   "source": [
    "## Step 2: Reading the files"
   ]
  },
  {
   "cell_type": "markdown",
   "metadata": {},
   "source": [
    "First we will need to open the files with the data to be evaluated, and convert it to a format that is easier to be analysed. Both dataset, named \"AppleStore\" for iOs apps and \"googleplaystore\" for android apps, are in Comma-separated values (CSV) format."
   ]
  },
  {
   "cell_type": "code",
   "execution_count": 1,
   "metadata": {},
   "outputs": [],
   "source": [
    "from csv import reader\n",
    "\n",
    "file_raw = open('AppleStore.csv', encoding='utf8')\n",
    "file_csv = reader(file_raw, delimiter=',')\n",
    "file_apple = list(file_csv)\n",
    "header_apple = file_apple[0]\n",
    "\n",
    "file_raw = open('googleplaystore.csv', encoding='utf8')\n",
    "file_csv = reader(file_raw, delimiter=',')\n",
    "file_android = list(file_csv)\n",
    "header_android = file_android[0]"
   ]
  },
  {
   "cell_type": "markdown",
   "metadata": {},
   "source": [
    "Now we have the converted file (it has beeen transformed into a list of lists) and the header (the first row of the file, which contains the name of the columns that we'll analyse), for each app store. After that, it's necessary to create a function to print the data contained in the files."
   ]
  },
  {
   "cell_type": "code",
   "execution_count": 2,
   "metadata": {},
   "outputs": [],
   "source": [
    "def explore_data(dataset, start, end, rows_and_columns = False):\n",
    "    \n",
    "    dataset_slice = dataset[start:end]    \n",
    "    \n",
    "    for row in dataset_slice:\n",
    "        print(row)\n",
    "        print('\\n')\n",
    "\n",
    "    if rows_and_columns:\n",
    "        print('Number of rows:', len(dataset))\n",
    "        print('Number of columns:', len(dataset[0]))\n",
    "        \n",
    "    print('\\n')"
   ]
  },
  {
   "cell_type": "markdown",
   "metadata": {},
   "source": [
    "We can test the ouput of the \"explore_data\" function using the code bellow, which aims to show the first 4 lines of data within each data set, and also show the number of rows and columns for each file. This is important because the number of rows will determine how many apps we will be evaluating (including 1 row representing the header) and the columns will show what type of information we have about each app."
   ]
  },
  {
   "cell_type": "code",
   "execution_count": 3,
   "metadata": {},
   "outputs": [
    {
     "name": "stdout",
     "output_type": "stream",
     "text": [
      "['id', 'track_name', 'size_bytes', 'currency', 'price', 'rating_count_tot', 'rating_count_ver', 'user_rating', 'user_rating_ver', 'ver', 'cont_rating', 'prime_genre', 'sup_devices.num', 'ipadSc_urls.num', 'lang.num', 'vpp_lic']\n",
      "\n",
      "\n",
      "['284882215', 'Facebook', '389879808', 'USD', '0', '2974676', '212', '3.5', '3.5', '95', '4+', 'Social Networking', '37', '1', '29', '1']\n",
      "\n",
      "\n",
      "['389801252', 'Instagram', '113954816', 'USD', '0', '2161558', '1289', '4.5', '4', '10.23', '12+', 'Photo & Video', '37', '0', '29', '1']\n",
      "\n",
      "\n",
      "['529479190', 'Clash of Clans', '116476928', 'USD', '0', '2130805', '579', '4.5', '4.5', '9.24.12', '9+', 'Games', '38', '5', '18', '1']\n",
      "\n",
      "\n",
      "Number of rows: 7198\n",
      "Number of columns: 16\n",
      "\n",
      "\n",
      "['App', 'Category', 'Rating', 'Reviews', 'Size', 'Installs', 'Type', 'Price', 'Content Rating', 'Genres', 'Last Updated', 'Current Ver', 'Android Ver']\n",
      "\n",
      "\n",
      "['Photo Editor & Candy Camera & Grid & ScrapBook', 'ART_AND_DESIGN', '4.1', '159', '19M', '10,000+', 'Free', '0', 'Everyone', 'Art & Design', '7-Jan-18', '1.0.0', '4.0.3 and up']\n",
      "\n",
      "\n",
      "['Coloring book moana', 'ART_AND_DESIGN', '3.9', '967', '14M', '500,000+', 'Free', '0', 'Everyone', 'Art & Design;Pretend Play', '15-Jan-18', '2.0.0', '4.0.3 and up']\n",
      "\n",
      "\n",
      "['U Launcher Lite – FREE Live Cool Themes, Hide Apps', 'ART_AND_DESIGN', '4.7', '87510', '8.7M', '5,000,000+', 'Free', '0', 'Everyone', 'Art & Design', '1-Aug-18', '1.2.4', '4.0.3 and up']\n",
      "\n",
      "\n",
      "Number of rows: 10842\n",
      "Number of columns: 13\n",
      "\n",
      "\n"
     ]
    }
   ],
   "source": [
    "explore_data(file_apple,0,4,True)\n",
    "explore_data(file_android,0,4,True)"
   ]
  },
  {
   "cell_type": "markdown",
   "metadata": {},
   "source": [
    "To understand better the data, we might also analyse only the header of each file, because it describes what do the values inside the data file correspond to. It also shows that the header is different for each app store, so we'll need to develop specfici code to explore each app store."
   ]
  },
  {
   "cell_type": "code",
   "execution_count": 4,
   "metadata": {},
   "outputs": [
    {
     "name": "stdout",
     "output_type": "stream",
     "text": [
      "['id', 'track_name', 'size_bytes', 'currency', 'price', 'rating_count_tot', 'rating_count_ver', 'user_rating', 'user_rating_ver', 'ver', 'cont_rating', 'prime_genre', 'sup_devices.num', 'ipadSc_urls.num', 'lang.num', 'vpp_lic']\n",
      "\n",
      "\n",
      "Number of rows: 7198\n",
      "Number of columns: 16\n",
      "\n",
      "\n",
      "['App', 'Category', 'Rating', 'Reviews', 'Size', 'Installs', 'Type', 'Price', 'Content Rating', 'Genres', 'Last Updated', 'Current Ver', 'Android Ver']\n",
      "\n",
      "\n",
      "Number of rows: 10842\n",
      "Number of columns: 13\n",
      "\n",
      "\n"
     ]
    }
   ],
   "source": [
    "explore_data(file_apple,0,1,True)\n",
    "explore_data(file_android,0,1,True)"
   ]
  },
  {
   "cell_type": "markdown",
   "metadata": {},
   "source": [
    "In the iOs file, track_name, price, prime_genre and the columns that have rating data maybe the most important for this analysis.\n",
    "In the android file, app, category, rating, price and genre might be the columns that have the most relevant data for this project.\n",
    "The [documentation of these datasets](https://www.kaggle.com/ramamet4/app-store-apple-data-set-10k-apps/home) contain more information about what each column represents."
   ]
  },
  {
   "cell_type": "markdown",
   "metadata": {},
   "source": [
    "## Step 3: Finding the incorrect row"
   ]
  },
  {
   "cell_type": "markdown",
   "metadata": {},
   "source": [
    "The discussion about the data set reveals that there is at [least one row that has incorrect data](https://www.kaggle.com/lava18/google-play-store-apps/discussion/66015) in the android dataset, so it needs to be deleted. In order to do that, we must first confirm if row in question has the problem that's referenced to in the documentation."
   ]
  },
  {
   "cell_type": "code",
   "execution_count": 5,
   "metadata": {},
   "outputs": [
    {
     "name": "stdout",
     "output_type": "stream",
     "text": [
      "['App', 'Category', 'Rating', 'Reviews', 'Size', 'Installs', 'Type', 'Price', 'Content Rating', 'Genres', 'Last Updated', 'Current Ver', 'Android Ver']\n",
      "['Life Made WI-Fi Touchscreen Photo Frame', '1.9', '19', '3.0M', '1,000+', 'Free', '0', 'Everyone', '', '11-Feb-18', '1.0.19', '4.0 and up', '']\n",
      "Total rows of data for android file:  10842\n"
     ]
    }
   ],
   "source": [
    "print(header_android)\n",
    "print(file_android[10473])\n",
    "print('Total rows of data for android file: ', (len(file_android)))"
   ]
  },
  {
   "cell_type": "markdown",
   "metadata": {},
   "source": [
    "As described in the documentation, the row number 10473 really lacks the data for one column, so it can be analysed by our program. To fix data, we are going to remove the row from our dataset."
   ]
  },
  {
   "cell_type": "code",
   "execution_count": 6,
   "metadata": {},
   "outputs": [
    {
     "name": "stdout",
     "output_type": "stream",
     "text": [
      "['osmino Wi-Fi: free WiFi', 'TOOLS', '4.2', '134203', '4.1M', '10,000,000+', 'Free', '0', 'Everyone', 'Tools', '7-Aug-18', '6.06.14', '4.4 and up']\n",
      "Total rows of data for android file after correction:  10841\n"
     ]
    }
   ],
   "source": [
    "del file_android[10473]\n",
    "print(file_android[10473])\n",
    "print('Total rows of data for android file after correction: ', (len(file_android)))"
   ]
  },
  {
   "cell_type": "markdown",
   "metadata": {},
   "source": [
    "The [documentation for the iOs app store](https://www.kaggle.com/ramamet4/app-store-apple-data-set-10k-apps/discussion) doesn't have any information about rows that might have imprecise data, so we'll not explore that dataset at this moment."
   ]
  },
  {
   "cell_type": "markdown",
   "metadata": {},
   "source": [
    "## Step 4: Finding duplicate apps"
   ]
  },
  {
   "cell_type": "markdown",
   "metadata": {},
   "source": [
    "Continuing our research of the datasets, now it's time to search for duplicate entries in the datasets. So in this step, we'll be focusing on finding apps that might have the same name in our dataset)."
   ]
  },
  {
   "cell_type": "code",
   "execution_count": 7,
   "metadata": {},
   "outputs": [
    {
     "name": "stdout",
     "output_type": "stream",
     "text": [
      "['Instagram', 'SOCIAL', '4.5', '66577313', 'Varies with device', '1,000,000,000+', 'Free', '0', 'Teen', 'Social', '31-Jul-18', 'Varies with device', 'Varies with device']\n",
      "['Instagram', 'SOCIAL', '4.5', '66577446', 'Varies with device', '1,000,000,000+', 'Free', '0', 'Teen', 'Social', '31-Jul-18', 'Varies with device', 'Varies with device']\n",
      "['Instagram', 'SOCIAL', '4.5', '66577313', 'Varies with device', '1,000,000,000+', 'Free', '0', 'Teen', 'Social', '31-Jul-18', 'Varies with device', 'Varies with device']\n",
      "['Instagram', 'SOCIAL', '4.5', '66509917', 'Varies with device', '1,000,000,000+', 'Free', '0', 'Teen', 'Social', '31-Jul-18', 'Varies with device', 'Varies with device']\n",
      "\n",
      "\n",
      "['389801252', 'Instagram', '113954816', 'USD', '0', '2161558', '1289', '4.5', '4', '10.23', '12+', 'Photo & Video', '37', '0', '29', '1']\n"
     ]
    }
   ],
   "source": [
    "for app in file_android[1:]:\n",
    "    name = app[0]\n",
    "    if name == 'Instagram':\n",
    "        print(app)\n",
    "        \n",
    "print('\\n')\n",
    "\n",
    "for app in file_apple[1:]:\n",
    "    name = app[1]\n",
    "    if name == 'Instagram':\n",
    "        print(app)"
   ]
  },
  {
   "cell_type": "markdown",
   "metadata": {},
   "source": [
    "As shown by this snippet of code, \"Instagram\" app has 4 entries on the Android dataset, and only one entrie on the iOs dataset. That might indicate that only the android dataset has duplicates, but we'll confirm that latter.\n",
    "In order to have the best dataset, we now need to identify all the cases in order to eliminate them."
   ]
  },
  {
   "cell_type": "code",
   "execution_count": 8,
   "metadata": {},
   "outputs": [
    {
     "name": "stdout",
     "output_type": "stream",
     "text": [
      "Number of duplicate apps:  2\n",
      "\n",
      "\n",
      "Examples of duplicate apps:  ['Mannequin Challenge', 'VR Roller Coaster']\n"
     ]
    }
   ],
   "source": [
    "duplicate_apps_apple = []\n",
    "unique_apps_apple = []\n",
    "\n",
    "for app in file_apple[1:]:\n",
    "    name = app[1]\n",
    "    if name in unique_apps_apple:\n",
    "        duplicate_apps_apple.append(name)\n",
    "    else:\n",
    "        unique_apps_apple.append(name)\n",
    "    \n",
    "print('Number of duplicate apps: ', len(duplicate_apps_apple))\n",
    "print('\\n')\n",
    "print('Examples of duplicate apps: ', duplicate_apps_apple)"
   ]
  },
  {
   "cell_type": "code",
   "execution_count": 9,
   "metadata": {},
   "outputs": [
    {
     "name": "stdout",
     "output_type": "stream",
     "text": [
      "Number of duplicate apps:  1181\n",
      "\n",
      "\n",
      "Examples of duplicate apps:  ['Quick PDF Scanner + OCR FREE', 'Box', 'Google My Business', 'ZOOM Cloud Meetings', 'join.me - Simple Meetings', 'Box', 'Zenefits', 'Google Ads', 'Google My Business', 'Slack', 'FreshBooks Classic', 'Insightly CRM', 'QuickBooks Accounting: Invoicing & Expenses', 'HipChat - Chat Built for Teams', 'Xero Accounting Software']\n"
     ]
    }
   ],
   "source": [
    "duplicate_apps = []\n",
    "unique_apps = []\n",
    "\n",
    "for app in file_android[1:]:\n",
    "    name = app[0]\n",
    "    if name in unique_apps:\n",
    "        duplicate_apps.append(name)\n",
    "    else:\n",
    "        unique_apps.append(name)\n",
    "    \n",
    "print('Number of duplicate apps: ', len(duplicate_apps))\n",
    "print('\\n')\n",
    "print('Examples of duplicate apps: ', duplicate_apps[:15])"
   ]
  },
  {
   "cell_type": "markdown",
   "metadata": {},
   "source": [
    "From this results, we might think that iOs has only two duplicates, but if we search the iOs app store, we we'll discover that [Mannequin Challenge](https://www.apple.com/br/search/Mannequin-Challenge?src=serp) is actually two different apps with the same name, and that is also the case with VR Roller Coaster. So we'll not look further into duplicate apps on the iOs dataset."
   ]
  },
  {
   "cell_type": "markdown",
   "metadata": {},
   "source": [
    "## Step 5: Removing duplicate apps"
   ]
  },
  {
   "cell_type": "markdown",
   "metadata": {},
   "source": [
    "Now that it's known the number of duplicate apps, and that only android dataset have duplicates, the next step is to remove these duplicate entries.\n",
    "In the chunck of code bellow we are going to identify and remove the duplicates, leaving only the version of the app with the highest number of reviews. We could use other criterias to remove the duplicate apps, but as we're trying to understand what are the most popular and porfitable free apps, the number of reviews might be the best indicator of the better version of the app to be evaluated this time.\n",
    "To do the removel, first it's needed to create a dictionary with the names of the all apps, in pair with the highest review count for that app."
   ]
  },
  {
   "cell_type": "code",
   "execution_count": 10,
   "metadata": {},
   "outputs": [
    {
     "name": "stdout",
     "output_type": "stream",
     "text": [
      "Expected length without duplicates:  9659\n",
      "Actual length at this moment:  10840\n",
      "Number of apps to be removed:  1181\n"
     ]
    }
   ],
   "source": [
    "reviews_max = {}\n",
    "\n",
    "for app in file_android[1:]:\n",
    "    name = app[0]\n",
    "    n_reviews = float(app[3])\n",
    "    if name in reviews_max and (reviews_max[name] < n_reviews):\n",
    "        reviews_max[name] = n_reviews\n",
    "    else:\n",
    "        reviews_max[name] = n_reviews\n",
    "\n",
    "print('Expected length without duplicates: ', len(reviews_max))\n",
    "print('Actual length at this moment: ', len(file_android[1:]))\n",
    "print('Number of apps to be removed: ', (len(file_android[1:]) - len(reviews_max)))"
   ]
  },
  {
   "cell_type": "markdown",
   "metadata": {},
   "source": [
    "Now that the dictionary has been created, we need to compare it to the original list of android apps, and create a new list as a result. This new list will only have unique apps, so in case of duplicate apps, only the version with the highest number of reviews will be there."
   ]
  },
  {
   "cell_type": "code",
   "execution_count": 11,
   "metadata": {},
   "outputs": [
    {
     "name": "stdout",
     "output_type": "stream",
     "text": [
      "['Photo Editor & Candy Camera & Grid & ScrapBook', 'ART_AND_DESIGN', '4.1', '159', '19M', '10,000+', 'Free', '0', 'Everyone', 'Art & Design', '7-Jan-18', '1.0.0', '4.0.3 and up']\n",
      "\n",
      "\n",
      "['U Launcher Lite – FREE Live Cool Themes, Hide Apps', 'ART_AND_DESIGN', '4.7', '87510', '8.7M', '5,000,000+', 'Free', '0', 'Everyone', 'Art & Design', '1-Aug-18', '1.2.4', '4.0.3 and up']\n",
      "\n",
      "\n",
      "['Sketch - Draw & Paint', 'ART_AND_DESIGN', '4.5', '215644', '25M', '50,000,000+', 'Free', '0', 'Teen', 'Art & Design', '8-Jun-18', 'Varies with device', '4.2 and up']\n",
      "\n",
      "\n",
      "Number of rows: 9659\n",
      "Number of columns: 13\n",
      "\n",
      "\n"
     ]
    }
   ],
   "source": [
    "android_clean = []\n",
    "already_added = []\n",
    "\n",
    "for app in file_android[1:]:\n",
    "    name = app[0]\n",
    "    n_reviews = float(app[3])\n",
    "    if n_reviews == reviews_max[name] and name not in already_added:\n",
    "            android_clean.append(app)\n",
    "            already_added.append(name)\n",
    "\n",
    "explore_data(android_clean, 0, 3, True)"
   ]
  },
  {
   "cell_type": "markdown",
   "metadata": {},
   "source": [
    "## Step 6: Identifying non-English apps"
   ]
  },
  {
   "cell_type": "markdown",
   "metadata": {},
   "source": [
    "In this step, we'll try to identify which of the apps might not have english names. Our research focus only in apps for English-speaking audience, so we need to identify if there are any foreign characters in the name of the app."
   ]
  },
  {
   "cell_type": "code",
   "execution_count": 12,
   "metadata": {},
   "outputs": [
    {
     "name": "stdout",
     "output_type": "stream",
     "text": [
      "True\n",
      "False\n",
      "False\n",
      "False\n"
     ]
    }
   ],
   "source": [
    "def english_characters(string):\n",
    "        \n",
    "    for i in string:\n",
    "        if ord(i) > 127:\n",
    "            return False\n",
    "    return True\n",
    "    \n",
    "print(english_characters('Instagram'))\n",
    "print(english_characters('爱奇艺PPS -《欢乐颂2》电视剧热播'))\n",
    "print(english_characters('Docs To Go™ Free Office Suite'))\n",
    "print(english_characters('Instachat 😜'))"
   ]
  },
  {
   "cell_type": "markdown",
   "metadata": {},
   "source": [
    "## Step 7: Removing non-English apps"
   ]
  },
  {
   "cell_type": "markdown",
   "metadata": {},
   "source": [
    "The function that we built identifies an app as english if of it's all the characters name were in the ASCII range. This is usefull, but it could lead to identify some apps as foreing for using some characters ouside of this range, like emojis (😜) or special characters (™). So we'll develop a new function that is more accurate than that."
   ]
  },
  {
   "cell_type": "code",
   "execution_count": 13,
   "metadata": {},
   "outputs": [
    {
     "name": "stdout",
     "output_type": "stream",
     "text": [
      "True\n",
      "True\n",
      "False\n"
     ]
    }
   ],
   "source": [
    "def english_name(string):\n",
    "    count = 0\n",
    "    for i in string:\n",
    "        if ord(i) > 127:\n",
    "            count += 1\n",
    "    if count > 3:\n",
    "        return False\n",
    "    else:\n",
    "        return True\n",
    "\n",
    "print(english_name('Docs To Go™ Free Office Suite'))\n",
    "print(english_name('Instachat 😜'))\n",
    "print(english_name('爱奇艺PPS -《欢乐颂2》电视剧热播'))"
   ]
  },
  {
   "cell_type": "markdown",
   "metadata": {},
   "source": [
    "Now that we can identify foreign apps with more precision, we'll to search for then in our databases, and create a new output without those apps."
   ]
  },
  {
   "cell_type": "code",
   "execution_count": 14,
   "metadata": {},
   "outputs": [
    {
     "name": "stdout",
     "output_type": "stream",
     "text": [
      "['Photo Editor & Candy Camera & Grid & ScrapBook', 'ART_AND_DESIGN', '4.1', '159', '19M', '10,000+', 'Free', '0', 'Everyone', 'Art & Design', '7-Jan-18', '1.0.0', '4.0.3 and up']\n",
      "\n",
      "\n",
      "['U Launcher Lite – FREE Live Cool Themes, Hide Apps', 'ART_AND_DESIGN', '4.7', '87510', '8.7M', '5,000,000+', 'Free', '0', 'Everyone', 'Art & Design', '1-Aug-18', '1.2.4', '4.0.3 and up']\n",
      "\n",
      "\n",
      "['Sketch - Draw & Paint', 'ART_AND_DESIGN', '4.5', '215644', '25M', '50,000,000+', 'Free', '0', 'Teen', 'Art & Design', '8-Jun-18', 'Varies with device', '4.2 and up']\n",
      "\n",
      "\n",
      "['Pixel Draw - Number Art Coloring Book', 'ART_AND_DESIGN', '4.3', '967', '2.8M', '100,000+', 'Free', '0', 'Everyone', 'Art & Design;Creativity', '20-Jun-18', '1.1', '4.4 and up']\n",
      "\n",
      "\n",
      "Number of rows: 9614\n",
      "Number of columns: 13\n",
      "\n",
      "\n",
      "['284882215', 'Facebook', '389879808', 'USD', '0', '2974676', '212', '3.5', '3.5', '95', '4+', 'Social Networking', '37', '1', '29', '1']\n",
      "\n",
      "\n",
      "['389801252', 'Instagram', '113954816', 'USD', '0', '2161558', '1289', '4.5', '4', '10.23', '12+', 'Photo & Video', '37', '0', '29', '1']\n",
      "\n",
      "\n",
      "['529479190', 'Clash of Clans', '116476928', 'USD', '0', '2130805', '579', '4.5', '4.5', '9.24.12', '9+', 'Games', '38', '5', '18', '1']\n",
      "\n",
      "\n",
      "['420009108', 'Temple Run', '65921024', 'USD', '0', '1724546', '3842', '4.5', '4', '1.6.2', '9+', 'Games', '40', '5', '1', '1']\n",
      "\n",
      "\n",
      "Number of rows: 6183\n",
      "Number of columns: 16\n",
      "\n",
      "\n"
     ]
    }
   ],
   "source": [
    "english_android = []\n",
    "english_apple = []\n",
    "\n",
    "for app in android_clean:\n",
    "    name = app[0]\n",
    "    if english_name(name):\n",
    "        english_android.append(app)\n",
    "\n",
    "for app in file_apple[1:]:\n",
    "    name = app[1]\n",
    "    if english_name(name):\n",
    "        english_apple.append(app)  \n",
    "\n",
    "explore_data(english_android,0,4,True)\n",
    "explore_data(english_apple,0,4,True)"
   ]
  },
  {
   "cell_type": "markdown",
   "metadata": {},
   "source": [
    "## Step 8: Selecting only free apps"
   ]
  },
  {
   "cell_type": "markdown",
   "metadata": {},
   "source": [
    "In this step, we'll keep cleaning our datasets to obtain the best results at the end. This time, we'll keep only the free apps, which is the focus of our investigation. In order to do that, we'll create a snippet of code similar of the ones that we already used when removing non-Enligsh apps and duplicate apps, but this time we'll need to search for the price of the app instead of it's name."
   ]
  },
  {
   "cell_type": "code",
   "execution_count": 15,
   "metadata": {},
   "outputs": [
    {
     "name": "stdout",
     "output_type": "stream",
     "text": [
      "['Photo Editor & Candy Camera & Grid & ScrapBook', 'ART_AND_DESIGN', '4.1', '159', '19M', '10,000+', 'Free', '0', 'Everyone', 'Art & Design', '7-Jan-18', '1.0.0', '4.0.3 and up']\n",
      "\n",
      "\n",
      "['U Launcher Lite – FREE Live Cool Themes, Hide Apps', 'ART_AND_DESIGN', '4.7', '87510', '8.7M', '5,000,000+', 'Free', '0', 'Everyone', 'Art & Design', '1-Aug-18', '1.2.4', '4.0.3 and up']\n",
      "\n",
      "\n",
      "['Sketch - Draw & Paint', 'ART_AND_DESIGN', '4.5', '215644', '25M', '50,000,000+', 'Free', '0', 'Teen', 'Art & Design', '8-Jun-18', 'Varies with device', '4.2 and up']\n",
      "\n",
      "\n",
      "['Pixel Draw - Number Art Coloring Book', 'ART_AND_DESIGN', '4.3', '967', '2.8M', '100,000+', 'Free', '0', 'Everyone', 'Art & Design;Creativity', '20-Jun-18', '1.1', '4.4 and up']\n",
      "\n",
      "\n",
      "Number of rows: 8864\n",
      "Number of columns: 13\n",
      "\n",
      "\n",
      "['284882215', 'Facebook', '389879808', 'USD', '0', '2974676', '212', '3.5', '3.5', '95', '4+', 'Social Networking', '37', '1', '29', '1']\n",
      "\n",
      "\n",
      "['389801252', 'Instagram', '113954816', 'USD', '0', '2161558', '1289', '4.5', '4', '10.23', '12+', 'Photo & Video', '37', '0', '29', '1']\n",
      "\n",
      "\n",
      "['529479190', 'Clash of Clans', '116476928', 'USD', '0', '2130805', '579', '4.5', '4.5', '9.24.12', '9+', 'Games', '38', '5', '18', '1']\n",
      "\n",
      "\n",
      "['420009108', 'Temple Run', '65921024', 'USD', '0', '1724546', '3842', '4.5', '4', '1.6.2', '9+', 'Games', '40', '5', '1', '1']\n",
      "\n",
      "\n",
      "Number of rows: 3222\n",
      "Number of columns: 16\n",
      "\n",
      "\n"
     ]
    }
   ],
   "source": [
    "free_android = []\n",
    "free_apple = []\n",
    "\n",
    "for app in english_android:\n",
    "    price = app[7]\n",
    "    if price == '0':\n",
    "        free_android.append(app)\n",
    "\n",
    "for app in english_apple:\n",
    "    price = app[4]\n",
    "    if price == '0':\n",
    "        free_apple.append(app)\n",
    "\n",
    "explore_data(free_android,0,4,True)\n",
    "explore_data(free_apple,0,4,True)"
   ]
  },
  {
   "cell_type": "markdown",
   "metadata": {},
   "source": [
    "## Step 9: Creating and showing the frequencies tables"
   ]
  },
  {
   "cell_type": "markdown",
   "metadata": {},
   "source": [
    "Now that we have cleaned our datasets, we need to explore it. As our objective is to compreehend what are the most popular apps whithin the datasets, in order to create profile of popular apps based in that information, we need to first understand what are the most popular genres.\n",
    "To do that we'll create a frequency table, that will contain the genres and percentage of apps in that genre. The genre might be extracted from many columns. In the android dataset we have the second column as category, and the tenth column being genres. In the iOs dataset, we have the twelfth column as the prime genre."
   ]
  },
  {
   "cell_type": "code",
   "execution_count": 16,
   "metadata": {},
   "outputs": [],
   "source": [
    "def freq_table(dataset,index):\n",
    "    \n",
    "    genre = {}\n",
    "    total = 0\n",
    "    \n",
    "    for row in dataset:\n",
    "        total += 1\n",
    "        value = row[index]\n",
    "        if value in genre:\n",
    "            genre[value] += 1\n",
    "        else:\n",
    "            genre[value] = 1\n",
    "            \n",
    "    genre_per = {}\n",
    "    \n",
    "    for app in genre:\n",
    "        per = (genre[app] / total)*100\n",
    "        genre_per[app] = per\n",
    "    \n",
    "    return genre_per"
   ]
  },
  {
   "cell_type": "markdown",
   "metadata": {},
   "source": [
    "Now that we have the frequency table, we need to be able to show it on the screen, in order to understand what are the most popular genres and deepen our research."
   ]
  },
  {
   "cell_type": "code",
   "execution_count": 17,
   "metadata": {},
   "outputs": [],
   "source": [
    "def display_table(dataset, index):\n",
    "\n",
    "    table = freq_table(dataset, index)\n",
    "    table_display = []\n",
    "    \n",
    "    for key in table:\n",
    "        key_val_as_tuple = (table[key], key)\n",
    "        table_display.append(key_val_as_tuple)\n",
    "\n",
    "    table_sorted = sorted(table_display, reverse = True)\n",
    "    \n",
    "    for entry in table_sorted:\n",
    "        print(entry[1], ':', entry[0])"
   ]
  },
  {
   "cell_type": "code",
   "execution_count": 18,
   "metadata": {},
   "outputs": [
    {
     "name": "stdout",
     "output_type": "stream",
     "text": [
      "FAMILY : 19.223826714801444\n",
      "GAME : 9.510379061371841\n",
      "TOOLS : 8.461191335740072\n",
      "BUSINESS : 4.580324909747293\n",
      "LIFESTYLE : 3.9034296028880866\n",
      "PRODUCTIVITY : 3.892148014440433\n",
      "FINANCE : 3.7003610108303246\n",
      "MEDICAL : 3.5424187725631766\n",
      "SPORTS : 3.4183212996389893\n",
      "PERSONALIZATION : 3.3167870036101084\n",
      "COMMUNICATION : 3.2490974729241873\n",
      "HEALTH_AND_FITNESS : 3.068592057761733\n",
      "PHOTOGRAPHY : 2.944494584837545\n",
      "NEWS_AND_MAGAZINES : 2.7978339350180503\n",
      "SOCIAL : 2.6624548736462095\n",
      "TRAVEL_AND_LOCAL : 2.33528880866426\n",
      "SHOPPING : 2.2450361010830324\n",
      "BOOKS_AND_REFERENCE : 2.1435018050541514\n",
      "DATING : 1.861462093862816\n",
      "VIDEO_PLAYERS : 1.782490974729242\n",
      "MAPS_AND_NAVIGATION : 1.3989169675090252\n",
      "FOOD_AND_DRINK : 1.2409747292418771\n",
      "EDUCATION : 1.128158844765343\n",
      "LIBRARIES_AND_DEMO : 0.9363718411552346\n",
      "AUTO_AND_VEHICLES : 0.9250902527075812\n",
      "ENTERTAINMENT : 0.8799638989169676\n",
      "HOUSE_AND_HOME : 0.8235559566787004\n",
      "WEATHER : 0.8009927797833934\n",
      "EVENTS : 0.7107400722021661\n",
      "PARENTING : 0.6543321299638989\n",
      "ART_AND_DESIGN : 0.6430505415162455\n",
      "COMICS : 0.6204873646209386\n",
      "BEAUTY : 0.5979241877256317\n"
     ]
    }
   ],
   "source": [
    "display_table(free_android,1)"
   ]
  },
  {
   "cell_type": "code",
   "execution_count": 19,
   "metadata": {},
   "outputs": [
    {
     "name": "stdout",
     "output_type": "stream",
     "text": [
      "Tools : 8.449909747292418\n",
      "Entertainment : 6.069494584837545\n",
      "Education : 5.347472924187725\n",
      "Business : 4.580324909747293\n",
      "Productivity : 3.892148014440433\n",
      "Lifestyle : 3.892148014440433\n",
      "Finance : 3.7003610108303246\n",
      "Medical : 3.5424187725631766\n",
      "Sports : 3.463447653429603\n",
      "Personalization : 3.3167870036101084\n",
      "Communication : 3.2490974729241873\n",
      "Action : 3.1024368231046933\n",
      "Health & Fitness : 3.068592057761733\n",
      "Photography : 2.944494584837545\n",
      "News & Magazines : 2.7978339350180503\n",
      "Social : 2.6624548736462095\n",
      "Travel & Local : 2.3240072202166067\n",
      "Shopping : 2.2450361010830324\n",
      "Books & Reference : 2.1435018050541514\n",
      "Simulation : 2.0419675090252705\n",
      "Dating : 1.861462093862816\n",
      "Arcade : 1.861462093862816\n",
      "Video Players & Editors : 1.782490974729242\n",
      "Casual : 1.7486462093862816\n",
      "Maps & Navigation : 1.3989169675090252\n",
      "Food & Drink : 1.2409747292418771\n",
      "Puzzle : 1.128158844765343\n",
      "Racing : 0.9927797833935018\n",
      "Role Playing : 0.9363718411552346\n",
      "Libraries & Demo : 0.9363718411552346\n",
      "Auto & Vehicles : 0.9250902527075812\n",
      "Strategy : 0.9138086642599278\n",
      "House & Home : 0.8235559566787004\n",
      "Weather : 0.8009927797833934\n",
      "Events : 0.7107400722021661\n",
      "Adventure : 0.6768953068592057\n",
      "Comics : 0.6092057761732852\n",
      "Beauty : 0.5979241877256317\n",
      "Art & Design : 0.5979241877256317\n",
      "Parenting : 0.4963898916967509\n",
      "Card : 0.4399819494584838\n",
      "Casino : 0.42870036101083037\n",
      "Trivia : 0.41741877256317694\n",
      "Educational;Education : 0.39485559566787\n",
      "Board : 0.3835740072202166\n",
      "Educational : 0.3722924187725632\n",
      "Education;Education : 0.33844765342960287\n",
      "Word : 0.2594765342960289\n",
      "Casual;Pretend Play : 0.236913357400722\n",
      "Music : 0.2030685920577617\n",
      "Racing;Action & Adventure : 0.16922382671480143\n",
      "Puzzle;Brain Games : 0.16922382671480143\n",
      "Entertainment;Music & Video : 0.16922382671480143\n",
      "Casual;Brain Games : 0.13537906137184114\n",
      "Casual;Action & Adventure : 0.13537906137184114\n",
      "Arcade;Action & Adventure : 0.12409747292418773\n",
      "Action;Action & Adventure : 0.10153429602888085\n",
      "Educational;Pretend Play : 0.09025270758122744\n",
      "Simulation;Action & Adventure : 0.078971119133574\n",
      "Parenting;Education : 0.078971119133574\n",
      "Entertainment;Brain Games : 0.078971119133574\n",
      "Board;Brain Games : 0.078971119133574\n",
      "Parenting;Music & Video : 0.06768953068592057\n",
      "Educational;Brain Games : 0.06768953068592057\n",
      "Casual;Creativity : 0.06768953068592057\n",
      "Art & Design;Creativity : 0.06768953068592057\n",
      "Education;Pretend Play : 0.056407942238267145\n",
      "Role Playing;Pretend Play : 0.04512635379061372\n",
      "Education;Creativity : 0.04512635379061372\n",
      "Role Playing;Action & Adventure : 0.033844765342960284\n",
      "Puzzle;Action & Adventure : 0.033844765342960284\n",
      "Entertainment;Creativity : 0.033844765342960284\n",
      "Entertainment;Action & Adventure : 0.033844765342960284\n",
      "Educational;Creativity : 0.033844765342960284\n",
      "Educational;Action & Adventure : 0.033844765342960284\n",
      "Education;Music & Video : 0.033844765342960284\n",
      "Education;Brain Games : 0.033844765342960284\n",
      "Education;Action & Adventure : 0.033844765342960284\n",
      "Adventure;Action & Adventure : 0.033844765342960284\n",
      "Video Players & Editors;Music & Video : 0.02256317689530686\n",
      "Sports;Action & Adventure : 0.02256317689530686\n",
      "Simulation;Pretend Play : 0.02256317689530686\n",
      "Puzzle;Creativity : 0.02256317689530686\n",
      "Music;Music & Video : 0.02256317689530686\n",
      "Entertainment;Pretend Play : 0.02256317689530686\n",
      "Casual;Education : 0.02256317689530686\n",
      "Board;Action & Adventure : 0.02256317689530686\n",
      "Trivia;Education : 0.01128158844765343\n",
      "Travel & Local;Action & Adventure : 0.01128158844765343\n",
      "Tools;Education : 0.01128158844765343\n",
      "Strategy;Education : 0.01128158844765343\n",
      "Strategy;Creativity : 0.01128158844765343\n",
      "Strategy;Action & Adventure : 0.01128158844765343\n",
      "Simulation;Education : 0.01128158844765343\n",
      "Role Playing;Brain Games : 0.01128158844765343\n",
      "Racing;Pretend Play : 0.01128158844765343\n",
      "Puzzle;Education : 0.01128158844765343\n",
      "Parenting;Brain Games : 0.01128158844765343\n",
      "Music & Audio;Music & Video : 0.01128158844765343\n",
      "Lifestyle;Pretend Play : 0.01128158844765343\n",
      "Lifestyle;Education : 0.01128158844765343\n",
      "Health & Fitness;Education : 0.01128158844765343\n",
      "Health & Fitness;Action & Adventure : 0.01128158844765343\n",
      "Entertainment;Education : 0.01128158844765343\n",
      "Communication;Creativity : 0.01128158844765343\n",
      "Comics;Creativity : 0.01128158844765343\n",
      "Casual;Music & Video : 0.01128158844765343\n",
      "Card;Brain Games : 0.01128158844765343\n",
      "Card;Action & Adventure : 0.01128158844765343\n",
      "Books & Reference;Education : 0.01128158844765343\n",
      "Art & Design;Pretend Play : 0.01128158844765343\n",
      "Art & Design;Action & Adventure : 0.01128158844765343\n",
      "Arcade;Pretend Play : 0.01128158844765343\n",
      "Adventure;Education : 0.01128158844765343\n"
     ]
    }
   ],
   "source": [
    "display_table(free_android,9)"
   ]
  },
  {
   "cell_type": "code",
   "execution_count": 20,
   "metadata": {},
   "outputs": [
    {
     "name": "stdout",
     "output_type": "stream",
     "text": [
      "Games : 58.16263190564867\n",
      "Entertainment : 7.883302296710118\n",
      "Photo & Video : 4.9658597144630665\n",
      "Education : 3.662321539416512\n",
      "Social Networking : 3.2898820608317814\n",
      "Shopping : 2.60707635009311\n",
      "Utilities : 2.5139664804469275\n",
      "Sports : 2.1415270018621975\n",
      "Music : 2.0484171322160147\n",
      "Health & Fitness : 2.0173805090006205\n",
      "Productivity : 1.7380509000620732\n",
      "Lifestyle : 1.5828677839851024\n",
      "News : 1.3345747982619491\n",
      "Travel : 1.2414649286157666\n",
      "Finance : 1.1173184357541899\n",
      "Weather : 0.8690254500310366\n",
      "Food & Drink : 0.8069522036002483\n",
      "Reference : 0.5586592178770949\n",
      "Business : 0.5276225946617008\n",
      "Book : 0.4345127250155183\n",
      "Navigation : 0.186219739292365\n",
      "Medical : 0.186219739292365\n",
      "Catalogs : 0.12414649286157665\n"
     ]
    }
   ],
   "source": [
    "display_table(free_apple,11)"
   ]
  },
  {
   "cell_type": "markdown",
   "metadata": {},
   "source": [
    "## Step 11: Analyzing the frequencies tables"
   ]
  },
  {
   "cell_type": "markdown",
   "metadata": {},
   "source": [
    "In the last step we were able to explore our data and extract information of which type of free app is more prevalent in Android and iOs.\n",
    "If go deeper in our data, we can see that in iOs, games are clear winner, with 58% of the free apps being of this genre, with entartainment being the runner up, with almost 8%. In Android we have the category family on the top, with 19%, and game and tools almost tied for the second place with 9% and 8%. If we look into the genres category, we mmight see a diferent result for android, with tools being in first with 8% and and entertainment and education as runner ups, with 6% and 5%.\n",
    "This shows that this data alone might not be the best indicator of what type of app we should build. We can come to this conclusion if we analyse that, for example, in iOs we don't have social network in the top or as a runner up, although it's a known fact that apps like facebook, instagram and other social networks are installed in almost every smartphone of the planet. So in order to discover what are the most profitable app profile, we need to dive further into the datasets."
   ]
  },
  {
   "cell_type": "markdown",
   "metadata": {},
   "source": [
    "## Step 12: Extracting more precise data from the iOs apps"
   ]
  },
  {
   "cell_type": "markdown",
   "metadata": {},
   "source": [
    "In this step we'll try to extract more relevant data in order to come to a more precise conclusion. We already have information about the how many apps are in each genre, but we don't have any idea of how many users each genre might have. In order to do that, we'll try to relate the number of installs or users with the genres or categories of apps."
   ]
  },
  {
   "cell_type": "code",
   "execution_count": 21,
   "metadata": {},
   "outputs": [
    {
     "name": "stdout",
     "output_type": "stream",
     "text": [
      "Social Networking average number of ratings per app: 71548.34905660378\n",
      "Social Networking total number of ratings: 7584125.0\n",
      "Social Networking average rating per app: 3.5943396226415096\n",
      "Photo & Video average number of ratings per app: 28441.54375\n",
      "Photo & Video total number of ratings: 4550647.0\n",
      "Photo & Video average rating per app: 3.903125\n",
      "Games average number of ratings per app: 22788.6696905016\n",
      "Games total number of ratings: 42705967.0\n",
      "Games average rating per app: 4.037086446104589\n",
      "Music average number of ratings per app: 57326.530303030304\n",
      "Music total number of ratings: 3783551.0\n",
      "Music average rating per app: 3.946969696969697\n",
      "Reference average number of ratings per app: 74942.11111111111\n",
      "Reference total number of ratings: 1348958.0\n",
      "Reference average rating per app: 3.6666666666666665\n",
      "Health & Fitness average number of ratings per app: 23298.015384615384\n",
      "Health & Fitness total number of ratings: 1514371.0\n",
      "Health & Fitness average rating per app: 3.769230769230769\n",
      "Weather average number of ratings per app: 52279.892857142855\n",
      "Weather total number of ratings: 1463837.0\n",
      "Weather average rating per app: 3.482142857142857\n",
      "Utilities average number of ratings per app: 18684.456790123455\n",
      "Utilities total number of ratings: 1513441.0\n",
      "Utilities average rating per app: 3.5308641975308643\n",
      "Travel average number of ratings per app: 28243.8\n",
      "Travel total number of ratings: 1129752.0\n",
      "Travel average rating per app: 3.4875\n",
      "Shopping average number of ratings per app: 26919.690476190477\n",
      "Shopping total number of ratings: 2261254.0\n",
      "Shopping average rating per app: 3.9702380952380953\n",
      "News average number of ratings per app: 21248.023255813954\n",
      "News total number of ratings: 913665.0\n",
      "News average rating per app: 3.244186046511628\n",
      "Navigation average number of ratings per app: 86090.33333333333\n",
      "Navigation total number of ratings: 516542.0\n",
      "Navigation average rating per app: 3.8333333333333335\n",
      "Lifestyle average number of ratings per app: 16485.764705882353\n",
      "Lifestyle total number of ratings: 840774.0\n",
      "Lifestyle average rating per app: 3.411764705882353\n",
      "Entertainment average number of ratings per app: 14029.830708661417\n",
      "Entertainment total number of ratings: 3563577.0\n",
      "Entertainment average rating per app: 3.5393700787401574\n",
      "Food & Drink average number of ratings per app: 33333.92307692308\n",
      "Food & Drink total number of ratings: 866682.0\n",
      "Food & Drink average rating per app: 3.6346153846153846\n",
      "Sports average number of ratings per app: 23008.898550724636\n",
      "Sports total number of ratings: 1587614.0\n",
      "Sports average rating per app: 3.0652173913043477\n",
      "Book average number of ratings per app: 39758.5\n",
      "Book total number of ratings: 556619.0\n",
      "Book average rating per app: 3.0714285714285716\n",
      "Finance average number of ratings per app: 31467.944444444445\n",
      "Finance total number of ratings: 1132846.0\n",
      "Finance average rating per app: 3.375\n",
      "Education average number of ratings per app: 7003.983050847458\n",
      "Education total number of ratings: 826470.0\n",
      "Education average rating per app: 3.635593220338983\n",
      "Productivity average number of ratings per app: 21028.410714285714\n",
      "Productivity total number of ratings: 1177591.0\n",
      "Productivity average rating per app: 4.0\n",
      "Business average number of ratings per app: 7491.117647058823\n",
      "Business total number of ratings: 127349.0\n",
      "Business average rating per app: 3.9705882352941178\n",
      "Catalogs average number of ratings per app: 4004.0\n",
      "Catalogs total number of ratings: 16016.0\n",
      "Catalogs average rating per app: 4.125\n",
      "Medical average number of ratings per app: 612.0\n",
      "Medical total number of ratings: 3672.0\n",
      "Medical average rating per app: 3.0\n"
     ]
    }
   ],
   "source": [
    "genres_ios = freq_table(free_apple, 11)\n",
    "\n",
    "for genre in genres_ios:\n",
    "    \n",
    "    total = 0\n",
    "    total_user_rat = 0\n",
    "    len_genre = 0\n",
    "    \n",
    "    for app in free_apple:\n",
    "        genre_app = app[11]\n",
    "        if genre_app == genre:            \n",
    "            n_ratings = float(app[5])\n",
    "            user_rating = float(app[7])\n",
    "            total += n_ratings\n",
    "            total_user_rat += user_rating\n",
    "            len_genre += 1\n",
    "            \n",
    "    avg_n_ratings = total / len_genre\n",
    "    avg_user_ratings = total_user_rat / len_genre\n",
    "    \n",
    "    print(genre, 'average number of ratings per app:', avg_n_ratings)\n",
    "    print(genre, 'total number of ratings:', total)\n",
    "    print(genre, 'average rating per app:', avg_user_ratings)"
   ]
  },
  {
   "cell_type": "markdown",
   "metadata": {},
   "source": [
    "Using as base all the data extracted until this point, we can say that Games might be the most popular apps in iOs. We're using the number of ratings that an app might have, which might not reflect the number of installations of that app or it's quality, but we can certainly see that games have good strategy to make people rate their app. But the main problem with developing a game is the budget for developing a successful game, that might be [above](https://www.imaginovation.net/blog/mobile-game-app-development-cost/) than the [average cost](https://www.newgenapps.com/blog/cost-to-develop-mobile-game-development-cost/) to develop an app.\n",
    "Other numbers are also interesting, as the high number of ratings per app in the navigation, social network and weather category. But with we dwelve further into it, we can see that this might happen because this categories have some apps that are much more popular than others like facebook or instagram, so that analysis might not be precise at all."
   ]
  },
  {
   "cell_type": "code",
   "execution_count": 22,
   "metadata": {},
   "outputs": [
    {
     "name": "stdout",
     "output_type": "stream",
     "text": [
      "Number of ratings for Facebook : 2974676\n",
      "Number of ratings for Instagram : 2161558\n",
      "Number of ratings for Pinterest : 1061624\n"
     ]
    }
   ],
   "source": [
    "for app in free_apple:\n",
    "    if app[1] == 'Facebook' or app[1] == 'Instagram' or app[1] == 'Pinterest' :\n",
    "        print('Number of ratings for', app[1], ':', app[5])"
   ]
  },
  {
   "cell_type": "markdown",
   "metadata": {},
   "source": [
    "Another interesting conclusion is that there are some categories with a lot of low rating apps, which should make easier to compete with. We can see that phenomenon with Book, News and Entertainment genres. These are 3 genres with a good number of ratings per app, which show that they might be popular, but with low ratings per app, so it would be easier to introduce a better app than those that we'll be competing with."
   ]
  },
  {
   "cell_type": "markdown",
   "metadata": {},
   "source": [
    "## Step 13: Extracting more precise data from the android apps"
   ]
  },
  {
   "cell_type": "markdown",
   "metadata": {},
   "source": [
    "Now it's time to extract data from the android dataset. This snippet of code will be very similar to the one related to extracting information about rating on iOs, the big difference is that in Android we have the number of total installations per app, which might help to build a more precise hypotesis about this dataset. We also need to watch out for special characters in the numbers, such as \"Nan\", \"+\" and \",\". We'll analyse the data using the \"Category\" column, as it's more general than the \"Genres\" column in this dataset."
   ]
  },
  {
   "cell_type": "code",
   "execution_count": 23,
   "metadata": {},
   "outputs": [
    {
     "name": "stdout",
     "output_type": "stream",
     "text": [
      "ART_AND_DESIGN average installs per app: 1986335.0877192982\n",
      "ART_AND_DESIGN average rating per app: 4.185964912280701\n",
      "AUTO_AND_VEHICLES average installs per app: 647317.8170731707\n",
      "AUTO_AND_VEHICLES average rating per app: 3.674390243902439\n",
      "BEAUTY average installs per app: 513151.88679245283\n",
      "BEAUTY average rating per app: 3.3905660377358484\n",
      "BOOKS_AND_REFERENCE average installs per app: 8767811.894736841\n",
      "BOOKS_AND_REFERENCE average rating per app: 3.638421052631579\n",
      "BUSINESS average installs per app: 1704192.3399014778\n",
      "BUSINESS average rating per app: 2.546059113300492\n",
      "COMICS average installs per app: 817657.2727272727\n",
      "COMICS average rating per app: 4.025454545454546\n",
      "COMMUNICATION average installs per app: 38326063.197916664\n",
      "COMMUNICATION average rating per app: 3.36736111111111\n",
      "DATING average installs per app: 854028.8303030303\n",
      "DATING average rating per app: 3.161818181818181\n",
      "EDUCATION average installs per app: 1768500.0\n",
      "EDUCATION average rating per app: 4.2989999999999995\n",
      "ENTERTAINMENT average installs per app: 9146923.076923076\n",
      "ENTERTAINMENT average rating per app: 4.1000000000000005\n",
      "EVENTS average installs per app: 253542.22222222222\n",
      "EVENTS average rating per app: 3.168253968253969\n",
      "FINANCE average installs per app: 1387692.475609756\n",
      "FINANCE average rating per app: 3.6375000000000006\n",
      "FOOD_AND_DRINK average installs per app: 1924897.7363636363\n",
      "FOOD_AND_DRINK average rating per app: 3.4854545454545454\n",
      "HEALTH_AND_FITNESS average installs per app: 4167457.3602941176\n",
      "HEALTH_AND_FITNESS average rating per app: 3.612132352941176\n",
      "HOUSE_AND_HOME average installs per app: 1331540.5616438356\n",
      "HOUSE_AND_HOME average rating per app: 3.4602739726027405\n",
      "LIBRARIES_AND_DEMO average installs per app: 638503.734939759\n",
      "LIBRARIES_AND_DEMO average rating per app: 3.2216867469879515\n",
      "LIFESTYLE average installs per app: 1437816.2687861272\n",
      "LIFESTYLE average rating per app: 3.291618497109824\n",
      "GAME average installs per app: 12914435.883748516\n",
      "GAME average rating per app: 4.0215895610913455\n",
      "FAMILY average installs per app: 5180161.789906103\n",
      "FAMILY average rating per app: 3.7044014084507086\n",
      "MEDICAL average installs per app: 123064.7898089172\n",
      "MEDICAL average rating per app: 3.028343949044585\n",
      "SOCIAL average installs per app: 23253652.127118643\n",
      "SOCIAL average rating per app: 3.6220338983050833\n",
      "SHOPPING average installs per app: 7036877.311557789\n",
      "SHOPPING average rating per app: 3.781407035175881\n",
      "PHOTOGRAPHY average installs per app: 17840110.40229885\n",
      "PHOTOGRAPHY average rating per app: 3.957088122605363\n",
      "SPORTS average installs per app: 4274688.722772277\n",
      "SPORTS average rating per app: 3.338943894389439\n",
      "TRAVEL_AND_LOCAL average installs per app: 13984077.710144928\n",
      "TRAVEL_AND_LOCAL average rating per app: 3.517874396135265\n",
      "TOOLS average installs per app: 10801391.298666667\n",
      "TOOLS average rating per app: 3.5284000000000004\n",
      "PERSONALIZATION average installs per app: 5201482.6122448975\n",
      "PERSONALIZATION average rating per app: 3.407823129251701\n",
      "PRODUCTIVITY average installs per app: 16772838.591304347\n",
      "PRODUCTIVITY average rating per app: 3.4182608695652212\n",
      "PARENTING average installs per app: 542603.6206896552\n",
      "PARENTING average rating per app: 3.5913793103448284\n",
      "WEATHER average installs per app: 5074486.197183099\n",
      "WEATHER average rating per app: 3.871830985915492\n",
      "VIDEO_PLAYERS average installs per app: 24790074.17721519\n",
      "VIDEO_PLAYERS average rating per app: 3.6835443037974684\n",
      "NEWS_AND_MAGAZINES average installs per app: 9549178.467741935\n",
      "NEWS_AND_MAGAZINES average rating per app: 3.277016129032258\n",
      "MAPS_AND_NAVIGATION average installs per app: 4056941.7741935486\n",
      "MAPS_AND_NAVIGATION average rating per app: 3.648387096774193\n"
     ]
    }
   ],
   "source": [
    "categories_android = freq_table(free_android,1)\n",
    "\n",
    "for category in categories_android:\n",
    "    \n",
    "    total = 0\n",
    "    len_category = 0\n",
    "    total_user_rat = 0\n",
    "    \n",
    "    for app in free_android:\n",
    "        category_app = app[1]\n",
    "        \n",
    "        if category_app == category:\n",
    "            \n",
    "            n_installs = app[5]\n",
    "            n_installs = n_installs.replace('+','')\n",
    "            n_installs = float(n_installs.replace(',',''))\n",
    "            total += n_installs\n",
    "            user_rating = app[2]\n",
    "            if user_rating == 'NaN':\n",
    "                user_rating = 0.0\n",
    "            total_user_rat += float(user_rating)\n",
    "            len_category += 1\n",
    "    \n",
    "    avg_n_installs = total / len_category\n",
    "    avg_user_ratings = total_user_rat / len_category\n",
    "    \n",
    "    print(category, 'average installs per app:', avg_n_installs)       \n",
    "    print(category, 'average rating per app:', avg_user_ratings)"
   ]
  },
  {
   "cell_type": "markdown",
   "metadata": {},
   "source": [
    "Now that we have all the data, we can see some similarity with the landscape already seen on iOs. First of all, it's important to realize that some of pre-installed apps or hlighly popular apps on android might inflate the numbers of some categories."
   ]
  },
  {
   "cell_type": "code",
   "execution_count": 24,
   "metadata": {},
   "outputs": [
    {
     "name": "stdout",
     "output_type": "stream",
     "text": [
      "Number of installs for Instagram : 1,000,000,000+\n",
      "Number of installs for Facebook : 1,000,000,000+\n",
      "Number of installs for Hangouts : 1,000,000,000+\n",
      "Number of installs for Google News : 1,000,000,000+\n"
     ]
    }
   ],
   "source": [
    "for app in free_android:\n",
    "    if app[0] == 'Hangouts' or app[0] == 'Facebook' or app[0] == 'Google News' or app[0] == 'Instagram':\n",
    "        print('Number of installs for', app[0], ':', app[5])"
   ]
  },
  {
   "cell_type": "markdown",
   "metadata": {},
   "source": [
    "The output of that last chuck of code also shows another problem with the android dataset, the imprecise numbers. Although the number installs might be more relevant data than the number of ratings per app, we only have the approximate number of installs, as shown below."
   ]
  },
  {
   "cell_type": "code",
   "execution_count": 25,
   "metadata": {},
   "outputs": [
    {
     "name": "stdout",
     "output_type": "stream",
     "text": [
      "Number of installs for Google Play Books : 1,000,000,000+\n",
      "Number of installs for Messenger – Text and Video Chat for Free : 1,000,000,000+\n",
      "Number of installs for Gmail : 1,000,000,000+\n",
      "Number of installs for Skype - free IM & video calls : 1,000,000,000+\n",
      "Number of installs for Google Street View : 1,000,000,000+\n",
      "Number of installs for Google Play Movies & TV : 1,000,000,000+\n",
      "Number of installs for Subway Surfers : 1,000,000,000+\n",
      "Number of installs for WhatsApp Messenger : 1,000,000,000+\n",
      "Number of installs for Instagram : 1,000,000,000+\n",
      "Number of installs for YouTube : 1,000,000,000+\n",
      "Number of installs for Facebook : 1,000,000,000+\n",
      "Number of installs for Google Chrome: Fast & Secure : 1,000,000,000+\n",
      "Number of installs for Maps - Navigate & Explore : 1,000,000,000+\n",
      "Number of installs for Google+ : 1,000,000,000+\n",
      "Number of installs for Google : 1,000,000,000+\n",
      "Number of installs for Hangouts : 1,000,000,000+\n",
      "Number of installs for Google Drive : 1,000,000,000+\n",
      "Number of installs for Google Photos : 1,000,000,000+\n",
      "Number of installs for Google Play Games : 1,000,000,000+\n",
      "Number of installs for Google News : 1,000,000,000+\n",
      "\n",
      "\n",
      "Number of installs for imo free video calls and chat : 500,000,000+\n",
      "Number of installs for Google Duo - High Quality Video Calls : 500,000,000+\n",
      "Number of installs for UC Browser - Fast Download Private & Secure : 500,000,000+\n",
      "Number of installs for Google Calendar : 500,000,000+\n",
      "Number of installs for Cloud Print : 500,000,000+\n",
      "Number of installs for Flipboard: News For Our Time : 500,000,000+\n",
      "Number of installs for Snapchat : 500,000,000+\n",
      "Number of installs for Pou : 500,000,000+\n",
      "Number of installs for My Talking Tom : 500,000,000+\n",
      "Number of installs for Google Translate : 500,000,000+\n",
      "Number of installs for Microsoft Word : 500,000,000+\n",
      "Number of installs for Candy Crush Saga : 500,000,000+\n",
      "Number of installs for Clean Master- Space Cleaner & Antivirus : 500,000,000+\n",
      "Number of installs for Temple Run 2 : 500,000,000+\n",
      "Number of installs for Dropbox : 500,000,000+\n",
      "Number of installs for Facebook Lite : 500,000,000+\n",
      "Number of installs for Twitter : 500,000,000+\n",
      "Number of installs for LINE: Free Calls & Messages : 500,000,000+\n",
      "Number of installs for Gboard - the Google Keyboard : 500,000,000+\n",
      "Number of installs for MX Player : 500,000,000+\n",
      "Number of installs for SHAREit - Transfer & Share : 500,000,000+\n",
      "Number of installs for Viber Messenger : 500,000,000+\n",
      "Number of installs for Samsung Health : 500,000,000+\n",
      "Number of installs for Security Master - Antivirus, VPN, AppLock, Booster : 500,000,000+\n"
     ]
    }
   ],
   "source": [
    "for app in free_android:\n",
    "    if app[5] == '1,000,000,000+':\n",
    "        print('Number of installs for', app[0], ':', app[5])\n",
    "        \n",
    "print('\\n')\n",
    "\n",
    "for app in free_android:\n",
    "    if app[5] == '500,000,000+':\n",
    "        print('Number of installs for', app[0], ':', app[5])"
   ]
  },
  {
   "cell_type": "markdown",
   "metadata": {},
   "source": [
    "Due to this fact, the number of installs by itself, or even the average of installs per app might not give us all the important information. So we can use that information with the average rating per app, so we can find categories that might have a good public, but not a lot of good competition. It's also interesting to choose a category that don't require a large user base to become interesting, such as Waze.\n",
    "Taking into consideration all these facts, \"Books and reference\", \"News and Magazine\" and also \"Productivity\" might be the three most interesting categories to creat an app"
   ]
  },
  {
   "cell_type": "markdown",
   "metadata": {},
   "source": [
    "## Conclusion"
   ]
  },
  {
   "cell_type": "markdown",
   "metadata": {},
   "source": [
    "In this project we were able to see many data relevant to the popularity of an app, and how hard it might be to decide what data you should consider more relevant. It was possible to see that there are many genres or categories of apps that are dominated by \"champion\" apps, which are way more popular than most of their competitors, and that this might lead to a biased conclusion.\n",
    "Although the datasets were very different, we ended up with similar conclusions, as books and news ended up being popular categories with not a lot of good competition, so they are the best categories to create a profitable free app. "
   ]
  }
 ],
 "metadata": {
  "kernelspec": {
   "display_name": "Python 3",
   "language": "python",
   "name": "python3"
  },
  "language_info": {
   "codemirror_mode": {
    "name": "ipython",
    "version": 3
   },
   "file_extension": ".py",
   "mimetype": "text/x-python",
   "name": "python",
   "nbconvert_exporter": "python",
   "pygments_lexer": "ipython3",
   "version": "3.7.6"
  }
 },
 "nbformat": 4,
 "nbformat_minor": 4
}
